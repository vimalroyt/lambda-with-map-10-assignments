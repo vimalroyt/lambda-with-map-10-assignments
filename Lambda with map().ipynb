{
 "cells": [
  {
   "cell_type": "markdown",
   "id": "e807a4d5-848d-4dd8-9a4b-52e19bfea5f3",
   "metadata": {},
   "source": [
    "# Lambda with map()"
   ]
  },
  {
   "cell_type": "raw",
   "id": "f7b15dc7-0b70-4c87-9490-39622ab6aac0",
   "metadata": {},
   "source": [
    "## 🔹 **10 Questions: Lambda with `map()`**\n",
    "\n",
    "Each task uses a lambda function with `map()` to **transform** items.\n",
    "1. Add 100 to every number in `[10, 20, 30, 40]`.\n",
    "2. Convert all names in `['alice', 'bob', 'charlie']` to uppercase.\n",
    "3. Get the length of each word in `['python', 'data', 'AI']`.\n",
    "4. Multiply each number in `[1, 2, 3, 4, 5]` by its index.\n",
    "5. Square each number in `[3, 5, 7, 9]`.\n",
    "6. Convert Celsius `[0, 10, 20, 30]` to Fahrenheit.\n",
    "7. Round each number in `[3.456, 7.891, 2.675]` to 1 decimal place.\n",
    "8. Add ₹18 GST to prices `[100, 250, 500]`.\n",
    "9. Extract the first letter from each word in `['apple', 'banana', 'cherry']`.\n",
    "10. Format list of names `['john', 'jane']` to `'Hello, John!'` and `'Hello, Jane!'`"
   ]
  },
  {
   "cell_type": "code",
   "execution_count": 7,
   "id": "75c1f2ef-1ba5-424f-b046-925af87030b5",
   "metadata": {},
   "outputs": [
    {
     "name": "stdout",
     "output_type": "stream",
     "text": [
      "[110, 120, 130, 140]\n"
     ]
    }
   ],
   "source": [
    "# 1. Add 100 to every number in `[10, 20, 30, 40]`.\n",
    "# Syntax - map(function, iterable)\n",
    "num=[10,20,30,40]\n",
    "\n",
    "add_100= list(map(lambda x: x+100, num))\n",
    "print(add_100)"
   ]
  },
  {
   "cell_type": "code",
   "execution_count": null,
   "id": "b9e8b142-5cd2-4870-b479-9b4a3f5775d0",
   "metadata": {},
   "outputs": [],
   "source": []
  },
  {
   "cell_type": "code",
   "execution_count": 11,
   "id": "7d39cda5-cb14-40e9-8eee-3a03bd5f27c4",
   "metadata": {},
   "outputs": [
    {
     "name": "stdout",
     "output_type": "stream",
     "text": [
      "['ALICE', 'BOB', 'CHARLIE']\n"
     ]
    }
   ],
   "source": [
    "# 2. Convert all names in `['alice', 'bob', 'charlie']` to uppercase.\n",
    "str=['alice', 'bob', 'charlie']\n",
    "upper_case= list(map(lambda x: x.upper(),str))\n",
    "print(upper_case)"
   ]
  },
  {
   "cell_type": "code",
   "execution_count": null,
   "id": "7cd273bd-ea62-4119-89c2-a42ffb3b608f",
   "metadata": {},
   "outputs": [],
   "source": []
  },
  {
   "cell_type": "code",
   "execution_count": 13,
   "id": "054e577e-d607-4e1d-b3f3-bfb6f2d7afa9",
   "metadata": {},
   "outputs": [
    {
     "name": "stdout",
     "output_type": "stream",
     "text": [
      "[6, 4, 2]\n"
     ]
    }
   ],
   "source": [
    "# 3. Get the length of each word in `['python', 'data', 'AI']`.\n",
    "str=['python', 'data', 'AI']\n",
    "check_len=list(map(lambda x : len(x),str))\n",
    "print(check_len)"
   ]
  },
  {
   "cell_type": "code",
   "execution_count": null,
   "id": "17f1a337-09bf-4868-b5cf-e15810e33d7f",
   "metadata": {},
   "outputs": [],
   "source": []
  },
  {
   "cell_type": "code",
   "execution_count": 20,
   "id": "0e30546c-c079-4146-bac6-441efa77977a",
   "metadata": {},
   "outputs": [
    {
     "name": "stdout",
     "output_type": "stream",
     "text": [
      "0 1\n",
      "1 2\n",
      "2 3\n",
      "3 4\n",
      "4 5\n"
     ]
    }
   ],
   "source": [
    "# before solving 4th assignment let's learn this\n",
    "# What enumerate() does\n",
    "# It adds a counter (index) to each item in an iterable.\n",
    "\n",
    "num = [1, 2, 3, 4, 5]\n",
    "for i, v in enumerate(num):\n",
    "    print(i, v)"
   ]
  },
  {
   "cell_type": "code",
   "execution_count": 26,
   "id": "6076ee0c-91d7-4fe1-9417-1b490f29c7f5",
   "metadata": {},
   "outputs": [
    {
     "name": "stdout",
     "output_type": "stream",
     "text": [
      "[0, 2, 6, 12, 20]\n"
     ]
    }
   ],
   "source": [
    "# 4. Multiply each number in `[1, 2, 3, 4, 5]` by its index.\n",
    "num=[1, 2, 3, 4, 5]\n",
    "num_index= list(map(lambda x: x[0]*x[1], enumerate(num))) #Note x[0] means indexes column\n",
    "print(num_index)                                          # x[1] means value column as show above in enumerate() example"
   ]
  },
  {
   "cell_type": "code",
   "execution_count": null,
   "id": "ac658a4a-e44a-4a12-bb61-59329afc6931",
   "metadata": {},
   "outputs": [],
   "source": []
  },
  {
   "cell_type": "code",
   "execution_count": 28,
   "id": "183b721d-b996-41b6-86e1-39405ad06c23",
   "metadata": {},
   "outputs": [
    {
     "name": "stdout",
     "output_type": "stream",
     "text": [
      "[9, 25, 49, 81]\n"
     ]
    }
   ],
   "source": [
    "# 5. Square each number in `[3, 5, 7, 9]`.\n",
    "num=[3, 5, 7, 9]\n",
    "square= list(map(lambda x: x*x, num))\n",
    "print(square)"
   ]
  },
  {
   "cell_type": "code",
   "execution_count": null,
   "id": "10a182ea-3927-49a5-97b7-701d7e2ab846",
   "metadata": {},
   "outputs": [],
   "source": []
  },
  {
   "cell_type": "code",
   "execution_count": 30,
   "id": "672826bb-375a-422a-8041-dca153d9b468",
   "metadata": {},
   "outputs": [
    {
     "name": "stdout",
     "output_type": "stream",
     "text": [
      "Fahrenheit:[32.0, 50.0, 68.0, 86.0]\n"
     ]
    }
   ],
   "source": [
    "# 6. Convert Celsius `[0, 10, 20, 30]` to Fahrenheit.\n",
    "# formula -> f=c*9/5+32\n",
    "celsius=[0, 10, 20, 30]\n",
    "fahrenheit= list(map(lambda x: x*(9/5)+32,celsius))\n",
    "print(f\"Fahrenheit:{fahrenheit}\")"
   ]
  },
  {
   "cell_type": "code",
   "execution_count": null,
   "id": "1c51ee46-5991-4c41-b6c0-a94a2f26d48b",
   "metadata": {},
   "outputs": [],
   "source": []
  },
  {
   "cell_type": "code",
   "execution_count": 32,
   "id": "e4dc07db-8a01-4c56-b546-1ff42d270ea7",
   "metadata": {},
   "outputs": [
    {
     "name": "stdout",
     "output_type": "stream",
     "text": [
      "[3.46, 7.89, 2.67]\n"
     ]
    }
   ],
   "source": [
    "# 7. Round each number in `[3.456, 7.891, 2.675]` to 1 decimal place.\n",
    "decimal=[3.456, 7.891, 2.675]\n",
    "round_2=list(map(lambda x: round(x,2),decimal))\n",
    "print(round_2)"
   ]
  },
  {
   "cell_type": "code",
   "execution_count": null,
   "id": "c57e7cc5-8580-42cb-a817-a2375d9974d8",
   "metadata": {},
   "outputs": [],
   "source": []
  },
  {
   "cell_type": "code",
   "execution_count": 34,
   "id": "aac32ceb-7586-4732-9729-6929380a9dcd",
   "metadata": {},
   "outputs": [
    {
     "name": "stdout",
     "output_type": "stream",
     "text": [
      "Price with gst:[118, 268, 518]\n"
     ]
    }
   ],
   "source": [
    "# 8. Add ₹18 GST to prices `[100, 250, 500]`.\n",
    "prices=[100, 250, 500]\n",
    "with_gst=list(map(lambda x: x+18,prices))\n",
    "print(f\"Price with gst:{with_gst}\")"
   ]
  },
  {
   "cell_type": "code",
   "execution_count": null,
   "id": "463cde57-6fcc-452e-9d8b-aa436e50aeb9",
   "metadata": {},
   "outputs": [],
   "source": []
  },
  {
   "cell_type": "code",
   "execution_count": 37,
   "id": "48f8bf0f-b2b5-4db9-adc8-0d8a7605657e",
   "metadata": {},
   "outputs": [
    {
     "name": "stdout",
     "output_type": "stream",
     "text": [
      "['a', 'b', 'c']\n"
     ]
    }
   ],
   "source": [
    "# 9. Extract the first letter from each word in `['apple', 'banana', 'cherry']`.\n",
    "lst=['apple', 'banana', 'cherry']\n",
    "first_letter= list(map(lambda x: x[0:1],lst))\n",
    "print(first_letter)"
   ]
  },
  {
   "cell_type": "code",
   "execution_count": null,
   "id": "1a053231-ee90-4b87-96aa-348b8631dda3",
   "metadata": {},
   "outputs": [],
   "source": []
  },
  {
   "cell_type": "code",
   "execution_count": 45,
   "id": "5ce7e1d9-87e8-4605-b043-fea44df827d8",
   "metadata": {},
   "outputs": [
    {
     "name": "stdout",
     "output_type": "stream",
     "text": [
      "['Hello, John!', 'Hello, Jane!']\n"
     ]
    }
   ],
   "source": [
    "# 10. Format list of names `['john', 'jane']` to `'Hello, John!'` and `'Hello, Jane!'`\n",
    "lst=['john','jane']\n",
    "formatted_lst= list(map(lambda x: f\"Hello, {x.capitalize()}!\",lst))\n",
    "print(formatted_lst)"
   ]
  },
  {
   "cell_type": "code",
   "execution_count": null,
   "id": "4ab3b940-1f4d-4601-90e6-655b1f4ffa6a",
   "metadata": {},
   "outputs": [],
   "source": []
  }
 ],
 "metadata": {
  "kernelspec": {
   "display_name": "Python 3 (ipykernel)",
   "language": "python",
   "name": "python3"
  },
  "language_info": {
   "codemirror_mode": {
    "name": "ipython",
    "version": 3
   },
   "file_extension": ".py",
   "mimetype": "text/x-python",
   "name": "python",
   "nbconvert_exporter": "python",
   "pygments_lexer": "ipython3",
   "version": "3.12.4"
  }
 },
 "nbformat": 4,
 "nbformat_minor": 5
}
